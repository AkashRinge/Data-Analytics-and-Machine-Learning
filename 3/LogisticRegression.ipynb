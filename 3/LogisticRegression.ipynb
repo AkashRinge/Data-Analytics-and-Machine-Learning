{
 "cells": [
  {
   "cell_type": "markdown",
   "id": "85236adc",
   "metadata": {},
   "source": [
    "# Using Logisitic Regression to model Loan Defaults "
   ]
  },
  {
   "cell_type": "code",
   "execution_count": 122,
   "id": "8d548ce6",
   "metadata": {},
   "outputs": [],
   "source": [
    "import pandas as pd\n",
    "import numpy as np\n",
    "import matplotlib.pyplot as plt\n",
    "import statsmodels.api as sm\n",
    "from sklearn.linear_model import LogisticRegression\n",
    "from sklearn.preprocessing import LabelEncoder\n",
    "from sklearn.metrics import roc_curve\n",
    "import seaborn as sns; sns.set_theme(color_codes=True)"
   ]
  },
  {
   "cell_type": "markdown",
   "id": "85a487e2",
   "metadata": {},
   "source": [
    "### Creating a column to find if default occured"
   ]
  },
  {
   "cell_type": "code",
   "execution_count": 148,
   "id": "71adf42e",
   "metadata": {},
   "outputs": [
    {
     "name": "stderr",
     "output_type": "stream",
     "text": [
      "C:\\Users\\food4thought\\AppData\\Local\\Temp\\ipykernel_12672\\173430594.py:1: DtypeWarning: Columns (21,24,29,31) have mixed types. Specify dtype option on import or set low_memory=False.\n",
      "  df = pd.read_csv(\"LendingClub_LoanStats3a_v12.csv\")\n"
     ]
    },
    {
     "data": {
      "text/html": [
       "<div>\n",
       "<style scoped>\n",
       "    .dataframe tbody tr th:only-of-type {\n",
       "        vertical-align: middle;\n",
       "    }\n",
       "\n",
       "    .dataframe tbody tr th {\n",
       "        vertical-align: top;\n",
       "    }\n",
       "\n",
       "    .dataframe thead th {\n",
       "        text-align: right;\n",
       "    }\n",
       "</style>\n",
       "<table border=\"1\" class=\"dataframe\">\n",
       "  <thead>\n",
       "    <tr style=\"text-align: right;\">\n",
       "      <th></th>\n",
       "      <th>id</th>\n",
       "      <th>member_id</th>\n",
       "      <th>loan_amnt</th>\n",
       "      <th>funded_amnt</th>\n",
       "      <th>funded_amnt_inv</th>\n",
       "      <th>term</th>\n",
       "      <th>int_rate</th>\n",
       "      <th>installment</th>\n",
       "      <th>grade</th>\n",
       "      <th>sub_grade</th>\n",
       "      <th>...</th>\n",
       "      <th>out_prncp</th>\n",
       "      <th>out_prncp_inv</th>\n",
       "      <th>total_pymnt</th>\n",
       "      <th>total_pymnt_inv</th>\n",
       "      <th>total_rec_prncp</th>\n",
       "      <th>total_rec_int</th>\n",
       "      <th>total_rec_late_fee</th>\n",
       "      <th>recoveries</th>\n",
       "      <th>collection_recovery_fee</th>\n",
       "      <th>Default</th>\n",
       "    </tr>\n",
       "  </thead>\n",
       "  <tbody>\n",
       "    <tr>\n",
       "      <th>0</th>\n",
       "      <td>1077501</td>\n",
       "      <td>1296599</td>\n",
       "      <td>5000</td>\n",
       "      <td>5000</td>\n",
       "      <td>4975.0</td>\n",
       "      <td>36 months</td>\n",
       "      <td>0.1065</td>\n",
       "      <td>162.870000</td>\n",
       "      <td>B</td>\n",
       "      <td>B2</td>\n",
       "      <td>...</td>\n",
       "      <td>0</td>\n",
       "      <td>0.0</td>\n",
       "      <td>5863.1553</td>\n",
       "      <td>5833.83980</td>\n",
       "      <td>5000.00000</td>\n",
       "      <td>863.15997</td>\n",
       "      <td>0.000000</td>\n",
       "      <td>0.0</td>\n",
       "      <td>0.00</td>\n",
       "      <td>0</td>\n",
       "    </tr>\n",
       "    <tr>\n",
       "      <th>1</th>\n",
       "      <td>1077430</td>\n",
       "      <td>1314167</td>\n",
       "      <td>2500</td>\n",
       "      <td>2500</td>\n",
       "      <td>2500.0</td>\n",
       "      <td>60 months</td>\n",
       "      <td>0.1527</td>\n",
       "      <td>59.830002</td>\n",
       "      <td>C</td>\n",
       "      <td>C4</td>\n",
       "      <td>...</td>\n",
       "      <td>0</td>\n",
       "      <td>0.0</td>\n",
       "      <td>1014.5300</td>\n",
       "      <td>1014.53000</td>\n",
       "      <td>456.45999</td>\n",
       "      <td>435.17001</td>\n",
       "      <td>0.000000</td>\n",
       "      <td>122.9</td>\n",
       "      <td>1.11</td>\n",
       "      <td>1</td>\n",
       "    </tr>\n",
       "    <tr>\n",
       "      <th>2</th>\n",
       "      <td>1077175</td>\n",
       "      <td>1313524</td>\n",
       "      <td>2400</td>\n",
       "      <td>2400</td>\n",
       "      <td>2400.0</td>\n",
       "      <td>36 months</td>\n",
       "      <td>0.1596</td>\n",
       "      <td>84.330002</td>\n",
       "      <td>C</td>\n",
       "      <td>C5</td>\n",
       "      <td>...</td>\n",
       "      <td>0</td>\n",
       "      <td>0.0</td>\n",
       "      <td>3005.6667</td>\n",
       "      <td>3005.66990</td>\n",
       "      <td>2400.00000</td>\n",
       "      <td>605.66998</td>\n",
       "      <td>0.000000</td>\n",
       "      <td>0.0</td>\n",
       "      <td>0.00</td>\n",
       "      <td>0</td>\n",
       "    </tr>\n",
       "    <tr>\n",
       "      <th>3</th>\n",
       "      <td>1076863</td>\n",
       "      <td>1277178</td>\n",
       "      <td>10000</td>\n",
       "      <td>10000</td>\n",
       "      <td>10000.0</td>\n",
       "      <td>36 months</td>\n",
       "      <td>0.1349</td>\n",
       "      <td>339.310000</td>\n",
       "      <td>C</td>\n",
       "      <td>C1</td>\n",
       "      <td>...</td>\n",
       "      <td>0</td>\n",
       "      <td>0.0</td>\n",
       "      <td>12231.8900</td>\n",
       "      <td>12231.89000</td>\n",
       "      <td>10000.00000</td>\n",
       "      <td>2214.91990</td>\n",
       "      <td>16.969999</td>\n",
       "      <td>0.0</td>\n",
       "      <td>0.00</td>\n",
       "      <td>0</td>\n",
       "    </tr>\n",
       "    <tr>\n",
       "      <th>5</th>\n",
       "      <td>1075269</td>\n",
       "      <td>1311441</td>\n",
       "      <td>5000</td>\n",
       "      <td>5000</td>\n",
       "      <td>5000.0</td>\n",
       "      <td>36 months</td>\n",
       "      <td>0.0790</td>\n",
       "      <td>156.460010</td>\n",
       "      <td>A</td>\n",
       "      <td>A4</td>\n",
       "      <td>...</td>\n",
       "      <td>0</td>\n",
       "      <td>0.0</td>\n",
       "      <td>5632.2100</td>\n",
       "      <td>5632.21000</td>\n",
       "      <td>5000.00000</td>\n",
       "      <td>632.21002</td>\n",
       "      <td>0.000000</td>\n",
       "      <td>0.0</td>\n",
       "      <td>0.00</td>\n",
       "      <td>0</td>\n",
       "    </tr>\n",
       "    <tr>\n",
       "      <th>...</th>\n",
       "      <td>...</td>\n",
       "      <td>...</td>\n",
       "      <td>...</td>\n",
       "      <td>...</td>\n",
       "      <td>...</td>\n",
       "      <td>...</td>\n",
       "      <td>...</td>\n",
       "      <td>...</td>\n",
       "      <td>...</td>\n",
       "      <td>...</td>\n",
       "      <td>...</td>\n",
       "      <td>...</td>\n",
       "      <td>...</td>\n",
       "      <td>...</td>\n",
       "      <td>...</td>\n",
       "      <td>...</td>\n",
       "      <td>...</td>\n",
       "      <td>...</td>\n",
       "      <td>...</td>\n",
       "      <td>...</td>\n",
       "      <td>...</td>\n",
       "    </tr>\n",
       "    <tr>\n",
       "      <th>39781</th>\n",
       "      <td>92187</td>\n",
       "      <td>92174</td>\n",
       "      <td>2500</td>\n",
       "      <td>2500</td>\n",
       "      <td>1075.0</td>\n",
       "      <td>36 months</td>\n",
       "      <td>0.0807</td>\n",
       "      <td>78.419998</td>\n",
       "      <td>A</td>\n",
       "      <td>A4</td>\n",
       "      <td>...</td>\n",
       "      <td>0</td>\n",
       "      <td>0.0</td>\n",
       "      <td>2822.9692</td>\n",
       "      <td>1213.88000</td>\n",
       "      <td>2500.00000</td>\n",
       "      <td>322.97000</td>\n",
       "      <td>0.000000</td>\n",
       "      <td>0.0</td>\n",
       "      <td>0.00</td>\n",
       "      <td>0</td>\n",
       "    </tr>\n",
       "    <tr>\n",
       "      <th>39782</th>\n",
       "      <td>90665</td>\n",
       "      <td>90607</td>\n",
       "      <td>8500</td>\n",
       "      <td>8500</td>\n",
       "      <td>875.0</td>\n",
       "      <td>36 months</td>\n",
       "      <td>0.1028</td>\n",
       "      <td>275.380000</td>\n",
       "      <td>C</td>\n",
       "      <td>C1</td>\n",
       "      <td>...</td>\n",
       "      <td>0</td>\n",
       "      <td>0.0</td>\n",
       "      <td>9913.4922</td>\n",
       "      <td>1020.51000</td>\n",
       "      <td>8500.00000</td>\n",
       "      <td>1413.49000</td>\n",
       "      <td>0.000000</td>\n",
       "      <td>0.0</td>\n",
       "      <td>0.00</td>\n",
       "      <td>0</td>\n",
       "    </tr>\n",
       "    <tr>\n",
       "      <th>39783</th>\n",
       "      <td>90395</td>\n",
       "      <td>90390</td>\n",
       "      <td>5000</td>\n",
       "      <td>5000</td>\n",
       "      <td>1325.0</td>\n",
       "      <td>36 months</td>\n",
       "      <td>0.0807</td>\n",
       "      <td>156.840000</td>\n",
       "      <td>A</td>\n",
       "      <td>A4</td>\n",
       "      <td>...</td>\n",
       "      <td>0</td>\n",
       "      <td>0.0</td>\n",
       "      <td>5272.1611</td>\n",
       "      <td>1397.12000</td>\n",
       "      <td>5000.00000</td>\n",
       "      <td>272.16000</td>\n",
       "      <td>0.000000</td>\n",
       "      <td>0.0</td>\n",
       "      <td>0.00</td>\n",
       "      <td>0</td>\n",
       "    </tr>\n",
       "    <tr>\n",
       "      <th>39784</th>\n",
       "      <td>90376</td>\n",
       "      <td>89243</td>\n",
       "      <td>5000</td>\n",
       "      <td>5000</td>\n",
       "      <td>650.0</td>\n",
       "      <td>36 months</td>\n",
       "      <td>0.0743</td>\n",
       "      <td>155.380000</td>\n",
       "      <td>A</td>\n",
       "      <td>A2</td>\n",
       "      <td>...</td>\n",
       "      <td>0</td>\n",
       "      <td>0.0</td>\n",
       "      <td>5174.1987</td>\n",
       "      <td>672.65997</td>\n",
       "      <td>5000.00000</td>\n",
       "      <td>174.20000</td>\n",
       "      <td>0.000000</td>\n",
       "      <td>0.0</td>\n",
       "      <td>0.00</td>\n",
       "      <td>0</td>\n",
       "    </tr>\n",
       "    <tr>\n",
       "      <th>39785</th>\n",
       "      <td>87023</td>\n",
       "      <td>86999</td>\n",
       "      <td>7500</td>\n",
       "      <td>7500</td>\n",
       "      <td>800.0</td>\n",
       "      <td>36 months</td>\n",
       "      <td>0.1375</td>\n",
       "      <td>255.429990</td>\n",
       "      <td>E</td>\n",
       "      <td>E2</td>\n",
       "      <td>...</td>\n",
       "      <td>0</td>\n",
       "      <td>0.0</td>\n",
       "      <td>9195.2637</td>\n",
       "      <td>980.83002</td>\n",
       "      <td>7500.00000</td>\n",
       "      <td>1695.26000</td>\n",
       "      <td>0.000000</td>\n",
       "      <td>0.0</td>\n",
       "      <td>0.00</td>\n",
       "      <td>0</td>\n",
       "    </tr>\n",
       "  </tbody>\n",
       "</table>\n",
       "<p>39412 rows × 41 columns</p>\n",
       "</div>"
      ],
      "text/plain": [
       "            id  member_id  loan_amnt  funded_amnt  funded_amnt_inv  \\\n",
       "0      1077501    1296599       5000         5000           4975.0   \n",
       "1      1077430    1314167       2500         2500           2500.0   \n",
       "2      1077175    1313524       2400         2400           2400.0   \n",
       "3      1076863    1277178      10000        10000          10000.0   \n",
       "5      1075269    1311441       5000         5000           5000.0   \n",
       "...        ...        ...        ...          ...              ...   \n",
       "39781    92187      92174       2500         2500           1075.0   \n",
       "39782    90665      90607       8500         8500            875.0   \n",
       "39783    90395      90390       5000         5000           1325.0   \n",
       "39784    90376      89243       5000         5000            650.0   \n",
       "39785    87023      86999       7500         7500            800.0   \n",
       "\n",
       "             term  int_rate  installment grade sub_grade  ... out_prncp  \\\n",
       "0       36 months    0.1065   162.870000     B        B2  ...         0   \n",
       "1       60 months    0.1527    59.830002     C        C4  ...         0   \n",
       "2       36 months    0.1596    84.330002     C        C5  ...         0   \n",
       "3       36 months    0.1349   339.310000     C        C1  ...         0   \n",
       "5       36 months    0.0790   156.460010     A        A4  ...         0   \n",
       "...           ...       ...          ...   ...       ...  ...       ...   \n",
       "39781   36 months    0.0807    78.419998     A        A4  ...         0   \n",
       "39782   36 months    0.1028   275.380000     C        C1  ...         0   \n",
       "39783   36 months    0.0807   156.840000     A        A4  ...         0   \n",
       "39784   36 months    0.0743   155.380000     A        A2  ...         0   \n",
       "39785   36 months    0.1375   255.429990     E        E2  ...         0   \n",
       "\n",
       "      out_prncp_inv  total_pymnt total_pymnt_inv total_rec_prncp  \\\n",
       "0               0.0    5863.1553      5833.83980      5000.00000   \n",
       "1               0.0    1014.5300      1014.53000       456.45999   \n",
       "2               0.0    3005.6667      3005.66990      2400.00000   \n",
       "3               0.0   12231.8900     12231.89000     10000.00000   \n",
       "5               0.0    5632.2100      5632.21000      5000.00000   \n",
       "...             ...          ...             ...             ...   \n",
       "39781           0.0    2822.9692      1213.88000      2500.00000   \n",
       "39782           0.0    9913.4922      1020.51000      8500.00000   \n",
       "39783           0.0    5272.1611      1397.12000      5000.00000   \n",
       "39784           0.0    5174.1987       672.65997      5000.00000   \n",
       "39785           0.0    9195.2637       980.83002      7500.00000   \n",
       "\n",
       "      total_rec_int total_rec_late_fee recoveries collection_recovery_fee  \\\n",
       "0         863.15997           0.000000        0.0                    0.00   \n",
       "1         435.17001           0.000000      122.9                    1.11   \n",
       "2         605.66998           0.000000        0.0                    0.00   \n",
       "3        2214.91990          16.969999        0.0                    0.00   \n",
       "5         632.21002           0.000000        0.0                    0.00   \n",
       "...             ...                ...        ...                     ...   \n",
       "39781     322.97000           0.000000        0.0                    0.00   \n",
       "39782    1413.49000           0.000000        0.0                    0.00   \n",
       "39783     272.16000           0.000000        0.0                    0.00   \n",
       "39784     174.20000           0.000000        0.0                    0.00   \n",
       "39785    1695.26000           0.000000        0.0                    0.00   \n",
       "\n",
       "      Default  \n",
       "0           0  \n",
       "1           1  \n",
       "2           0  \n",
       "3           0  \n",
       "5           0  \n",
       "...       ...  \n",
       "39781       0  \n",
       "39782       0  \n",
       "39783       0  \n",
       "39784       0  \n",
       "39785       0  \n",
       "\n",
       "[39412 rows x 41 columns]"
      ]
     },
     "execution_count": 148,
     "metadata": {},
     "output_type": "execute_result"
    }
   ],
   "source": [
    "df = pd.read_csv(\"LendingClub_LoanStats3a_v12.csv\")\n",
    "df = df[(df[\"loan_status\"]==\"Fully Paid\") | (df[\"loan_status\"]==\"Charged Off\")]\n",
    "df[\"Default\"] = 1\n",
    "df.loc[df[\"loan_status\"]==\"Fully Paid\", \"Default\"] = 0\n",
    "df"
   ]
  },
  {
   "cell_type": "markdown",
   "id": "3ea49a3e",
   "metadata": {},
   "source": [
    "### Default Rate"
   ]
  },
  {
   "cell_type": "code",
   "execution_count": 149,
   "id": "509cbe4f",
   "metadata": {},
   "outputs": [
    {
     "data": {
      "text/plain": [
       "0.14353496397036436"
      ]
     },
     "execution_count": 149,
     "metadata": {},
     "output_type": "execute_result"
    }
   ],
   "source": [
    "default_rate = len(df.loc[(df[\"Default\"]==1)])/len(df)\n",
    "default_rate"
   ]
  },
  {
   "cell_type": "markdown",
   "id": "eb46cb79",
   "metadata": {},
   "source": [
    "### Running a logistic regression of credit ratings on default"
   ]
  },
  {
   "cell_type": "code",
   "execution_count": 150,
   "id": "65369ca2",
   "metadata": {},
   "outputs": [
    {
     "name": "stdout",
     "output_type": "stream",
     "text": [
      "Warning: Maximum number of iterations has been exceeded.\n",
      "         Current function value: 0.392196\n",
      "         Iterations: 35\n"
     ]
    },
    {
     "name": "stderr",
     "output_type": "stream",
     "text": [
      "D:\\Applications\\Anaconda\\lib\\site-packages\\statsmodels\\base\\model.py:604: ConvergenceWarning: Maximum Likelihood optimization failed to converge. Check mle_retvals\n",
      "  warnings.warn(\"Maximum Likelihood optimization failed to \"\n"
     ]
    },
    {
     "data": {
      "text/html": [
       "<table class=\"simpletable\">\n",
       "<caption>Logit Regression Results</caption>\n",
       "<tr>\n",
       "  <th>Dep. Variable:</th>           <td>y</td>        <th>  No. Observations:  </th>  <td> 39412</td> \n",
       "</tr>\n",
       "<tr>\n",
       "  <th>Model:</th>                 <td>Logit</td>      <th>  Df Residuals:      </th>  <td> 39404</td> \n",
       "</tr>\n",
       "<tr>\n",
       "  <th>Method:</th>                 <td>MLE</td>       <th>  Df Model:          </th>  <td>     7</td> \n",
       "</tr>\n",
       "<tr>\n",
       "  <th>Date:</th>            <td>Sun, 23 Apr 2023</td> <th>  Pseudo R-squ.:     </th>  <td>0.04651</td>\n",
       "</tr>\n",
       "<tr>\n",
       "  <th>Time:</th>                <td>21:02:31</td>     <th>  Log-Likelihood:    </th> <td> -15457.</td>\n",
       "</tr>\n",
       "<tr>\n",
       "  <th>converged:</th>             <td>False</td>      <th>  LL-Null:           </th> <td> -16211.</td>\n",
       "</tr>\n",
       "<tr>\n",
       "  <th>Covariance Type:</th>     <td>nonrobust</td>    <th>  LLR p-value:       </th>  <td> 0.000</td> \n",
       "</tr>\n",
       "</table>\n",
       "<table class=\"simpletable\">\n",
       "<tr>\n",
       "    <td></td>       <th>coef</th>     <th>std err</th>      <th>z</th>      <th>P>|z|</th>  <th>[0.025</th>    <th>0.975]</th>  \n",
       "</tr>\n",
       "<tr>\n",
       "  <th>const</th> <td>   -1.2777</td> <td> 5.46e+05</td> <td>-2.34e-06</td> <td> 1.000</td> <td>-1.07e+06</td> <td> 1.07e+06</td>\n",
       "</tr>\n",
       "<tr>\n",
       "  <th>x1</th>    <td>   -1.4777</td> <td> 5.46e+05</td> <td> -2.7e-06</td> <td> 1.000</td> <td>-1.07e+06</td> <td> 1.07e+06</td>\n",
       "</tr>\n",
       "<tr>\n",
       "  <th>x2</th>    <td>   -0.7163</td> <td> 5.46e+05</td> <td>-1.31e-06</td> <td> 1.000</td> <td>-1.07e+06</td> <td> 1.07e+06</td>\n",
       "</tr>\n",
       "<tr>\n",
       "  <th>x3</th>    <td>   -0.3181</td> <td> 5.46e+05</td> <td>-5.82e-07</td> <td> 1.000</td> <td>-1.07e+06</td> <td> 1.07e+06</td>\n",
       "</tr>\n",
       "<tr>\n",
       "  <th>x4</th>    <td>   -0.0177</td> <td> 5.46e+05</td> <td>-3.25e-08</td> <td> 1.000</td> <td>-1.07e+06</td> <td> 1.07e+06</td>\n",
       "</tr>\n",
       "<tr>\n",
       "  <th>x5</th>    <td>    0.2206</td> <td> 5.46e+05</td> <td> 4.04e-07</td> <td> 1.000</td> <td>-1.07e+06</td> <td> 1.07e+06</td>\n",
       "</tr>\n",
       "<tr>\n",
       "  <th>x6</th>    <td>    0.4954</td> <td> 5.46e+05</td> <td> 9.07e-07</td> <td> 1.000</td> <td>-1.07e+06</td> <td> 1.07e+06</td>\n",
       "</tr>\n",
       "<tr>\n",
       "  <th>x7</th>    <td>    0.5362</td> <td> 5.46e+05</td> <td> 9.81e-07</td> <td> 1.000</td> <td>-1.07e+06</td> <td> 1.07e+06</td>\n",
       "</tr>\n",
       "</table>"
      ],
      "text/plain": [
       "<class 'statsmodels.iolib.summary.Summary'>\n",
       "\"\"\"\n",
       "                           Logit Regression Results                           \n",
       "==============================================================================\n",
       "Dep. Variable:                      y   No. Observations:                39412\n",
       "Model:                          Logit   Df Residuals:                    39404\n",
       "Method:                           MLE   Df Model:                            7\n",
       "Date:                Sun, 23 Apr 2023   Pseudo R-squ.:                 0.04651\n",
       "Time:                        21:02:31   Log-Likelihood:                -15457.\n",
       "converged:                      False   LL-Null:                       -16211.\n",
       "Covariance Type:            nonrobust   LLR p-value:                     0.000\n",
       "==============================================================================\n",
       "                 coef    std err          z      P>|z|      [0.025      0.975]\n",
       "------------------------------------------------------------------------------\n",
       "const         -1.2777   5.46e+05  -2.34e-06      1.000   -1.07e+06    1.07e+06\n",
       "x1            -1.4777   5.46e+05   -2.7e-06      1.000   -1.07e+06    1.07e+06\n",
       "x2            -0.7163   5.46e+05  -1.31e-06      1.000   -1.07e+06    1.07e+06\n",
       "x3            -0.3181   5.46e+05  -5.82e-07      1.000   -1.07e+06    1.07e+06\n",
       "x4            -0.0177   5.46e+05  -3.25e-08      1.000   -1.07e+06    1.07e+06\n",
       "x5             0.2206   5.46e+05   4.04e-07      1.000   -1.07e+06    1.07e+06\n",
       "x6             0.4954   5.46e+05   9.07e-07      1.000   -1.07e+06    1.07e+06\n",
       "x7             0.5362   5.46e+05   9.81e-07      1.000   -1.07e+06    1.07e+06\n",
       "==============================================================================\n",
       "\"\"\""
      ]
     },
     "execution_count": 150,
     "metadata": {},
     "output_type": "execute_result"
    }
   ],
   "source": [
    "credit_ratings = pd.get_dummies(df['grade'])\n",
    "model= sm.Logit(np.array(df[\"Default\"]), sm.add_constant(np.array(credit_ratings)))\n",
    "results = model.fit()\n",
    "results.summary()"
   ]
  },
  {
   "cell_type": "code",
   "execution_count": 151,
   "id": "0a816030",
   "metadata": {},
   "outputs": [
    {
     "data": {
      "text/plain": [
       "<AxesSubplot:xlabel='grade', ylabel='forecast'>"
      ]
     },
     "execution_count": 151,
     "metadata": {},
     "output_type": "execute_result"
    },
    {
     "data": {
      "image/png": "[encoded data removed]",
      "text/plain": [
       "<Figure size 640x480 with 1 Axes>"
      ]
     },
     "metadata": {},
     "output_type": "display_data"
    }
   ],
   "source": [
    "df[\"forecast\"] = results.predict(sm.add_constant(np.array(credit_ratings)))\n",
    "sns.boxplot(x=df[\"grade\"], y=df[\"forecast\"])"
   ]
  },
  {
   "cell_type": "markdown",
   "id": "f9403511",
   "metadata": {},
   "source": [
    "The credit rating A is the best with the least default rate whilst credit rating G is worst with highest default rate. Although the model fits the data fine, the coefficients do not make any sense because the logit regression fails to converge."
   ]
  },
  {
   "cell_type": "markdown",
   "id": "ec47d8d6",
   "metadata": {},
   "source": [
    "### Contrasting with Intercept-Only model\n",
    "To test whether the logistic regression model performs better than the null model where only the intercept (beta0) is present, we can use a likelihood ratio test. The H0 for this test is that the logistic regression model is not significantly better than the null model, i.e., the additional predictors in the logistic model do not significantly improve the model fit compared to the intercept-only model.\n",
    "\n",
    "To perform the likelihood ratio test, we need to first fit both the logistic regression model and the null model to the data. We can then calculate the likelihood ratio statistic, which is defined as the difference between the log-likelihoods of the two models multiplied by -2. The likelihood ratio statistic follows a chi-squared distribution with degrees of freedom equal to the difference in the number of parameters between the two models."
   ]
  },
  {
   "cell_type": "code",
   "execution_count": 152,
   "id": "8d3565e4",
   "metadata": {},
   "outputs": [
    {
     "name": "stdout",
     "output_type": "stream",
     "text": [
      "Optimization terminated successfully.\n",
      "         Current function value: 0.411329\n",
      "         Iterations 6\n",
      "Warning: Maximum number of iterations has been exceeded.\n",
      "         Current function value: 0.392196\n",
      "         Iterations: 35\n"
     ]
    },
    {
     "name": "stderr",
     "output_type": "stream",
     "text": [
      "D:\\Applications\\Anaconda\\lib\\site-packages\\statsmodels\\base\\model.py:604: ConvergenceWarning: Maximum Likelihood optimization failed to converge. Check mle_retvals\n",
      "  warnings.warn(\"Maximum Likelihood optimization failed to \"\n"
     ]
    },
    {
     "data": {
      "text/plain": [
       "1508.097255675213"
      ]
     },
     "execution_count": 152,
     "metadata": {},
     "output_type": "execute_result"
    }
   ],
   "source": [
    "y = np.array(df[\"Default\"])\n",
    "X = sm.add_constant(np.array(credit_ratings))\n",
    "null_model = sm.Logit(y, sm.add_constant(np.ones_like(y))).fit()\n",
    "logit_model = sm.Logit(y, X).fit()\n",
    "LR_stat = -2 * (null_model.llf - logit_model.llf)\n",
    "LR_stat"
   ]
  },
  {
   "cell_type": "markdown",
   "id": "98ba6b9d",
   "metadata": {},
   "source": [
    "Since the LR stat is pretty high compared to its chisquared counter part, it means that we are logit model is significantly better than a null intercept model"
   ]
  },
  {
   "cell_type": "markdown",
   "id": "00da1c6f",
   "metadata": {},
   "source": [
    "### Lift Table and ROC curve"
   ]
  },
  {
   "cell_type": "code",
   "execution_count": 153,
   "id": "a4d5a81e",
   "metadata": {},
   "outputs": [
    {
     "data": {
      "text/html": [
       "<div>\n",
       "<style scoped>\n",
       "    .dataframe tbody tr th:only-of-type {\n",
       "        vertical-align: middle;\n",
       "    }\n",
       "\n",
       "    .dataframe tbody tr th {\n",
       "        vertical-align: top;\n",
       "    }\n",
       "\n",
       "    .dataframe thead th {\n",
       "        text-align: right;\n",
       "    }\n",
       "</style>\n",
       "<table border=\"1\" class=\"dataframe\">\n",
       "  <thead>\n",
       "    <tr style=\"text-align: right;\">\n",
       "      <th></th>\n",
       "      <th>Credit Rating</th>\n",
       "      <th>Lift</th>\n",
       "    </tr>\n",
       "  </thead>\n",
       "  <tbody>\n",
       "    <tr>\n",
       "      <th>0</th>\n",
       "      <td>A</td>\n",
       "      <td>0.416495</td>\n",
       "    </tr>\n",
       "    <tr>\n",
       "      <th>1</th>\n",
       "      <td>B</td>\n",
       "      <td>0.834889</td>\n",
       "    </tr>\n",
       "    <tr>\n",
       "      <th>2</th>\n",
       "      <td>C</td>\n",
       "      <td>1.174467</td>\n",
       "    </tr>\n",
       "    <tr>\n",
       "      <th>3</th>\n",
       "      <td>D</td>\n",
       "      <td>1.497468</td>\n",
       "    </tr>\n",
       "    <tr>\n",
       "      <th>4</th>\n",
       "      <td>E</td>\n",
       "      <td>1.796554</td>\n",
       "    </tr>\n",
       "    <tr>\n",
       "      <th>5</th>\n",
       "      <td>F</td>\n",
       "      <td>2.186507</td>\n",
       "    </tr>\n",
       "    <tr>\n",
       "      <th>6</th>\n",
       "      <td>G</td>\n",
       "      <td>2.248119</td>\n",
       "    </tr>\n",
       "  </tbody>\n",
       "</table>\n",
       "</div>"
      ],
      "text/plain": [
       "  Credit Rating      Lift\n",
       "0             A  0.416495\n",
       "1             B  0.834889\n",
       "2             C  1.174467\n",
       "3             D  1.497468\n",
       "4             E  1.796554\n",
       "5             F  2.186507\n",
       "6             G  2.248119"
      ]
     },
     "execution_count": 153,
     "metadata": {},
     "output_type": "execute_result"
    }
   ],
   "source": [
    "lift_table = pd.DataFrame()\n",
    "lift_table[\"Credit Rating\"] = credit_ratings.columns\n",
    "lift_table[\"Lift\"] = 0\n",
    "total_prop = default_rate\n",
    "groupby_obj = df.groupby('grade')\n",
    "for name, group in groupby_obj:\n",
    "    prop = len(group[group[\"Default\"] == 1])/len(group)\n",
    "    lift_table.loc[lift_table[\"Credit Rating\"] == name, \"Lift\"] = prop/total_prop\n",
    "lift_table"
   ]
  },
  {
   "cell_type": "code",
   "execution_count": 154,
   "id": "74b18cce",
   "metadata": {},
   "outputs": [
    {
     "data": {
      "image/png": "[encoded data removed]",
      "text/plain": [
       "<Figure size 800x500 with 1 Axes>"
      ]
     },
     "metadata": {},
     "output_type": "display_data"
    }
   ],
   "source": [
    "fpr, tpr, thresholds = roc_curve(df[\"Default\"], df[\"forecast\"])\n",
    "plt.figure(figsize=(8,5))\n",
    "plt.plot(fpr, tpr)\n",
    "plt.xlabel('False Positive Rate')\n",
    "plt.ylabel('True Positive Rate')\n",
    "plt.title('ROC Curve')\n",
    "plt.show()"
   ]
  },
  {
   "cell_type": "markdown",
   "id": "06d57979",
   "metadata": {},
   "source": [
    "The resulting plot shows the ROC curve, which is a curve that starts at the point (0,0) and ends at the point (1,1), with the area under the curve (AUC) representing the performance of the classifier. A random classifier would have an AUC of 0.5, while a perfect classifier would have an AUC of 1."
   ]
  },
  {
   "cell_type": "markdown",
   "id": "20a5529a",
   "metadata": {},
   "source": [
    "#### We need to skew the FPR factor by 10x because of the amplified loss structure"
   ]
  },
  {
   "cell_type": "code",
   "execution_count": 155,
   "id": "3c19a26c",
   "metadata": {},
   "outputs": [
    {
     "data": {
      "text/plain": [
       "0.11983574960194417"
      ]
     },
     "execution_count": 155,
     "metadata": {},
     "output_type": "execute_result"
    }
   ],
   "source": [
    "def calc_profit(threshold, df):\n",
    "        fn = df[(df[\"Default\"] == 1) & (df[\"forecast\"] < threshold)]\n",
    "        fp = df[(df[\"Default\"] == 0) & (df[\"forecast\"] > threshold)]\n",
    "        tn = df[(df[\"Default\"] == 0) & (df[\"forecast\"] < threshold)]\n",
    "        tp = df[(df[\"Default\"] == 1) & (df[\"forecast\"] > threshold)]\n",
    "        \n",
    "        # False negatives are dangerous\n",
    "        profit = (len(tn) * 1) - (len(fn) * 10)\n",
    "        return profit\n",
    "        \n",
    "disc_thr = thresholds[0]\n",
    "pair = [tpr[0], fpr[0]]\n",
    "profit = calc_profit(disc_thr, df)\n",
    "for i in range(len(thresholds)):\n",
    "    p = calc_profit(thresholds[i], df)\n",
    "    if p > profit:\n",
    "        pair = [tpr[i], fpr[i]]\n",
    "        profit = p\n",
    "        disc_thr = thresholds[i]\n",
    "disc_thr"
   ]
  },
  {
   "cell_type": "markdown",
   "id": "cd730ef8",
   "metadata": {},
   "source": [
    "The cutoff default probability to maximize profits is 0.1198"
   ]
  },
  {
   "cell_type": "code",
   "execution_count": 156,
   "id": "c669a56d",
   "metadata": {},
   "outputs": [
    {
     "data": {
      "image/png": "[encoded data removed]",
      "text/plain": [
       "<Figure size 800x500 with 1 Axes>"
      ]
     },
     "metadata": {},
     "output_type": "display_data"
    }
   ],
   "source": [
    "fpr, tpr, thresholds = roc_curve(df[\"Default\"], df[\"forecast\"])\n",
    "plt.figure(figsize=(8,5))\n",
    "plt.plot(fpr, tpr)\n",
    "plt.scatter(x=pair[1], y=pair[0], color=\"maroon\", label=\"Cutoff Threshold\")\n",
    "plt.xlabel('False Positive Rate')\n",
    "plt.ylabel('True Positive Rate')\n",
    "plt.title('ROC Curve')\n",
    "plt.legend()\n",
    "plt.show()"
   ]
  },
  {
   "cell_type": "markdown",
   "id": "8a70e38f",
   "metadata": {},
   "source": [
    "### Running a logistic regression on defaults using loan amount and annual income"
   ]
  },
  {
   "cell_type": "code",
   "execution_count": 157,
   "id": "57062202",
   "metadata": {},
   "outputs": [
    {
     "name": "stdout",
     "output_type": "stream",
     "text": [
      "Optimization terminated successfully.\n",
      "         Current function value: 0.406307\n",
      "         Iterations 7\n"
     ]
    },
    {
     "data": {
      "text/html": [
       "<table class=\"simpletable\">\n",
       "<caption>Logit Regression Results</caption>\n",
       "<tr>\n",
       "  <th>Dep. Variable:</th>           <td>y</td>        <th>  No. Observations:  </th>  <td> 39412</td>  \n",
       "</tr>\n",
       "<tr>\n",
       "  <th>Model:</th>                 <td>Logit</td>      <th>  Df Residuals:      </th>  <td> 39409</td>  \n",
       "</tr>\n",
       "<tr>\n",
       "  <th>Method:</th>                 <td>MLE</td>       <th>  Df Model:          </th>  <td>     2</td>  \n",
       "</tr>\n",
       "<tr>\n",
       "  <th>Date:</th>            <td>Sun, 23 Apr 2023</td> <th>  Pseudo R-squ.:     </th>  <td>0.01221</td> \n",
       "</tr>\n",
       "<tr>\n",
       "  <th>Time:</th>                <td>21:03:57</td>     <th>  Log-Likelihood:    </th> <td> -16013.</td> \n",
       "</tr>\n",
       "<tr>\n",
       "  <th>converged:</th>             <td>True</td>       <th>  LL-Null:           </th> <td> -16211.</td> \n",
       "</tr>\n",
       "<tr>\n",
       "  <th>Covariance Type:</th>     <td>nonrobust</td>    <th>  LLR p-value:       </th> <td>1.121e-86</td>\n",
       "</tr>\n",
       "</table>\n",
       "<table class=\"simpletable\">\n",
       "<tr>\n",
       "    <td></td>       <th>coef</th>     <th>std err</th>      <th>z</th>      <th>P>|z|</th>  <th>[0.025</th>    <th>0.975]</th>  \n",
       "</tr>\n",
       "<tr>\n",
       "  <th>const</th> <td>   -1.7254</td> <td>    0.032</td> <td>  -53.708</td> <td> 0.000</td> <td>   -1.788</td> <td>   -1.662</td>\n",
       "</tr>\n",
       "<tr>\n",
       "  <th>x1</th>    <td> 3.484e-05</td> <td> 2.08e-06</td> <td>   16.742</td> <td> 0.000</td> <td> 3.08e-05</td> <td> 3.89e-05</td>\n",
       "</tr>\n",
       "<tr>\n",
       "  <th>x2</th>    <td>-7.089e-06</td> <td> 4.66e-07</td> <td>  -15.201</td> <td> 0.000</td> <td>   -8e-06</td> <td>-6.17e-06</td>\n",
       "</tr>\n",
       "</table>"
      ],
      "text/plain": [
       "<class 'statsmodels.iolib.summary.Summary'>\n",
       "\"\"\"\n",
       "                           Logit Regression Results                           \n",
       "==============================================================================\n",
       "Dep. Variable:                      y   No. Observations:                39412\n",
       "Model:                          Logit   Df Residuals:                    39409\n",
       "Method:                           MLE   Df Model:                            2\n",
       "Date:                Sun, 23 Apr 2023   Pseudo R-squ.:                 0.01221\n",
       "Time:                        21:03:57   Log-Likelihood:                -16013.\n",
       "converged:                       True   LL-Null:                       -16211.\n",
       "Covariance Type:            nonrobust   LLR p-value:                 1.121e-86\n",
       "==============================================================================\n",
       "                 coef    std err          z      P>|z|      [0.025      0.975]\n",
       "------------------------------------------------------------------------------\n",
       "const         -1.7254      0.032    -53.708      0.000      -1.788      -1.662\n",
       "x1          3.484e-05   2.08e-06     16.742      0.000    3.08e-05    3.89e-05\n",
       "x2         -7.089e-06   4.66e-07    -15.201      0.000      -8e-06   -6.17e-06\n",
       "==============================================================================\n",
       "\"\"\""
      ]
     },
     "execution_count": 157,
     "metadata": {},
     "output_type": "execute_result"
    }
   ],
   "source": [
    "# First lets save the old data \n",
    "grade_forecasts = df[\"forecast\"]\n",
    "\n",
    "X = np.array(df[['loan_amnt', 'annual_inc']])\n",
    "Y = np.array(df[\"Default\"])                \n",
    "model= sm.Logit(Y, sm.add_constant(X))\n",
    "results = model.fit()\n",
    "results.summary()"
   ]
  },
  {
   "cell_type": "code",
   "execution_count": 158,
   "id": "84d1ffc1",
   "metadata": {},
   "outputs": [
    {
     "name": "stderr",
     "output_type": "stream",
     "text": [
      "D:\\Applications\\Anaconda\\lib\\site-packages\\seaborn\\_decorators.py:36: FutureWarning: Pass the following variable as a keyword arg: x. From version 0.12, the only valid positional argument will be `data`, and passing other arguments without an explicit keyword will result in an error or misinterpretation.\n",
      "  warnings.warn(\n"
     ]
    },
    {
     "data": {
      "text/plain": [
       "<AxesSubplot:xlabel='forecast'>"
      ]
     },
     "execution_count": 158,
     "metadata": {},
     "output_type": "execute_result"
    },
    {
     "data": {
      "image/png": "[encoded data removed]",
      "text/plain": [
       "<Figure size 640x480 with 1 Axes>"
      ]
     },
     "metadata": {},
     "output_type": "display_data"
    }
   ],
   "source": [
    "df[\"forecast\"] = results.predict(sm.add_constant(X))\n",
    "sns.boxplot(df[\"forecast\"])"
   ]
  },
  {
   "cell_type": "code",
   "execution_count": 159,
   "id": "e947bdcf",
   "metadata": {},
   "outputs": [
    {
     "data": {
      "text/html": [
       "<div>\n",
       "<style scoped>\n",
       "    .dataframe tbody tr th:only-of-type {\n",
       "        vertical-align: middle;\n",
       "    }\n",
       "\n",
       "    .dataframe tbody tr th {\n",
       "        vertical-align: top;\n",
       "    }\n",
       "\n",
       "    .dataframe thead th {\n",
       "        text-align: right;\n",
       "    }\n",
       "</style>\n",
       "<table border=\"1\" class=\"dataframe\">\n",
       "  <thead>\n",
       "    <tr style=\"text-align: right;\">\n",
       "      <th></th>\n",
       "      <th>Deciles</th>\n",
       "      <th>Lift</th>\n",
       "    </tr>\n",
       "  </thead>\n",
       "  <tbody>\n",
       "    <tr>\n",
       "      <th>0</th>\n",
       "      <td>(-0.001, 0.104]</td>\n",
       "      <td>0.616341</td>\n",
       "    </tr>\n",
       "    <tr>\n",
       "      <th>1</th>\n",
       "      <td>(0.104, 0.119]</td>\n",
       "      <td>0.728893</td>\n",
       "    </tr>\n",
       "    <tr>\n",
       "      <th>2</th>\n",
       "      <td>(0.119, 0.128]</td>\n",
       "      <td>0.781554</td>\n",
       "    </tr>\n",
       "    <tr>\n",
       "      <th>3</th>\n",
       "      <td>(0.128, 0.135]</td>\n",
       "      <td>0.880389</td>\n",
       "    </tr>\n",
       "    <tr>\n",
       "      <th>4</th>\n",
       "      <td>(0.135, 0.142]</td>\n",
       "      <td>0.924565</td>\n",
       "    </tr>\n",
       "    <tr>\n",
       "      <th>5</th>\n",
       "      <td>(0.142, 0.15]</td>\n",
       "      <td>0.993510</td>\n",
       "    </tr>\n",
       "    <tr>\n",
       "      <th>6</th>\n",
       "      <td>(0.15, 0.157]</td>\n",
       "      <td>1.068983</td>\n",
       "    </tr>\n",
       "    <tr>\n",
       "      <th>7</th>\n",
       "      <td>(0.157, 0.168]</td>\n",
       "      <td>1.043538</td>\n",
       "    </tr>\n",
       "    <tr>\n",
       "      <th>8</th>\n",
       "      <td>(0.168, 0.186]</td>\n",
       "      <td>1.410713</td>\n",
       "    </tr>\n",
       "    <tr>\n",
       "      <th>9</th>\n",
       "      <td>(0.186, 0.305]</td>\n",
       "      <td>1.551744</td>\n",
       "    </tr>\n",
       "  </tbody>\n",
       "</table>\n",
       "</div>"
      ],
      "text/plain": [
       "           Deciles      Lift\n",
       "0  (-0.001, 0.104]  0.616341\n",
       "1   (0.104, 0.119]  0.728893\n",
       "2   (0.119, 0.128]  0.781554\n",
       "3   (0.128, 0.135]  0.880389\n",
       "4   (0.135, 0.142]  0.924565\n",
       "5    (0.142, 0.15]  0.993510\n",
       "6    (0.15, 0.157]  1.068983\n",
       "7   (0.157, 0.168]  1.043538\n",
       "8   (0.168, 0.186]  1.410713\n",
       "9   (0.186, 0.305]  1.551744"
      ]
     },
     "execution_count": 159,
     "metadata": {},
     "output_type": "execute_result"
    }
   ],
   "source": [
    "lift_table = pd.DataFrame()\n",
    "total_prop = default_rate\n",
    "deciles = []\n",
    "lifts = []\n",
    "df[\"Deciles\"] = pd.qcut(df[\"forecast\"], q=10)\n",
    "groupby_obj = df.groupby(\"Deciles\")\n",
    "for name, group in groupby_obj:\n",
    "    prop = len(group[group[\"Default\"] == 1])/len(group)\n",
    "    deciles.append(name)\n",
    "    lifts.append(prop/total_prop)\n",
    "lift_table[\"Deciles\"] = deciles\n",
    "lift_table[\"Lift\"] = lifts\n",
    "lift_table"
   ]
  },
  {
   "cell_type": "code",
   "execution_count": 160,
   "id": "3e227e53",
   "metadata": {},
   "outputs": [
    {
     "data": {
      "image/png": "[encoded data removed]",
      "text/plain": [
       "<Figure size 800x500 with 1 Axes>"
      ]
     },
     "metadata": {},
     "output_type": "display_data"
    }
   ],
   "source": [
    "fpr1, tpr1, thresholds1 = roc_curve(df[\"Default\"], grade_forecasts)\n",
    "fpr2, tpr2, thresholds2 = roc_curve(df[\"Default\"], df[\"forecast\"])\n",
    "plt.figure(figsize=(8,5))\n",
    "plt.plot(fpr1, tpr1, label=\"Grade\")\n",
    "plt.plot(fpr2, tpr2, label=\"Income and Loan amt\")\n",
    "plt.xlabel('False Positive Rate')\n",
    "plt.ylabel('True Positive Rate')\n",
    "plt.title('ROC Curve')\n",
    "plt.legend()\n",
    "plt.show()"
   ]
  },
  {
   "cell_type": "markdown",
   "id": "91778401",
   "metadata": {},
   "source": [
    "The grade forecasts perform better."
   ]
  },
  {
   "cell_type": "markdown",
   "id": "1e21ad69",
   "metadata": {},
   "source": [
    "### Running a logistic regression on defaults using loan amount, annual income, maturity and interest rate"
   ]
  },
  {
   "cell_type": "code",
   "execution_count": 165,
   "id": "bf0f703b",
   "metadata": {},
   "outputs": [
    {
     "name": "stdout",
     "output_type": "stream",
     "text": [
      "Optimization terminated successfully.\n",
      "         Current function value: 0.385901\n",
      "         Iterations 7\n"
     ]
    },
    {
     "data": {
      "text/html": [
       "<table class=\"simpletable\">\n",
       "<caption>Logit Regression Results</caption>\n",
       "<tr>\n",
       "  <th>Dep. Variable:</th>           <td>y</td>        <th>  No. Observations:  </th>  <td> 39412</td> \n",
       "</tr>\n",
       "<tr>\n",
       "  <th>Model:</th>                 <td>Logit</td>      <th>  Df Residuals:      </th>  <td> 39407</td> \n",
       "</tr>\n",
       "<tr>\n",
       "  <th>Method:</th>                 <td>MLE</td>       <th>  Df Model:          </th>  <td>     4</td> \n",
       "</tr>\n",
       "<tr>\n",
       "  <th>Date:</th>            <td>Sun, 23 Apr 2023</td> <th>  Pseudo R-squ.:     </th>  <td>0.06182</td>\n",
       "</tr>\n",
       "<tr>\n",
       "  <th>Time:</th>                <td>21:21:56</td>     <th>  Log-Likelihood:    </th> <td> -15209.</td>\n",
       "</tr>\n",
       "<tr>\n",
       "  <th>converged:</th>             <td>True</td>       <th>  LL-Null:           </th> <td> -16211.</td>\n",
       "</tr>\n",
       "<tr>\n",
       "  <th>Covariance Type:</th>     <td>nonrobust</td>    <th>  LLR p-value:       </th>  <td> 0.000</td> \n",
       "</tr>\n",
       "</table>\n",
       "<table class=\"simpletable\">\n",
       "<tr>\n",
       "    <td></td>       <th>coef</th>     <th>std err</th>      <th>z</th>      <th>P>|z|</th>  <th>[0.025</th>    <th>0.975]</th>  \n",
       "</tr>\n",
       "<tr>\n",
       "  <th>const</th> <td>   -2.0261</td> <td> 1.56e+06</td> <td> -1.3e-06</td> <td> 1.000</td> <td>-3.06e+06</td> <td> 3.06e+06</td>\n",
       "</tr>\n",
       "<tr>\n",
       "  <th>x1</th>    <td> 1.176e-06</td> <td> 2.31e-06</td> <td>    0.509</td> <td> 0.611</td> <td>-3.35e-06</td> <td> 5.71e-06</td>\n",
       "</tr>\n",
       "<tr>\n",
       "  <th>x2</th>    <td>-6.117e-06</td> <td> 4.64e-07</td> <td>  -13.173</td> <td> 0.000</td> <td>-7.03e-06</td> <td>-5.21e-06</td>\n",
       "</tr>\n",
       "<tr>\n",
       "  <th>x3</th>    <td>   13.4873</td> <td>    0.456</td> <td>   29.575</td> <td> 0.000</td> <td>   12.593</td> <td>   14.381</td>\n",
       "</tr>\n",
       "<tr>\n",
       "  <th>x4</th>    <td>   -1.2399</td> <td> 1.56e+06</td> <td>-7.94e-07</td> <td> 1.000</td> <td>-3.06e+06</td> <td> 3.06e+06</td>\n",
       "</tr>\n",
       "<tr>\n",
       "  <th>x5</th>    <td>   -0.7862</td> <td> 1.56e+06</td> <td>-5.04e-07</td> <td> 1.000</td> <td>-3.06e+06</td> <td> 3.06e+06</td>\n",
       "</tr>\n",
       "</table>"
      ],
      "text/plain": [
       "<class 'statsmodels.iolib.summary.Summary'>\n",
       "\"\"\"\n",
       "                           Logit Regression Results                           \n",
       "==============================================================================\n",
       "Dep. Variable:                      y   No. Observations:                39412\n",
       "Model:                          Logit   Df Residuals:                    39407\n",
       "Method:                           MLE   Df Model:                            4\n",
       "Date:                Sun, 23 Apr 2023   Pseudo R-squ.:                 0.06182\n",
       "Time:                        21:21:56   Log-Likelihood:                -15209.\n",
       "converged:                       True   LL-Null:                       -16211.\n",
       "Covariance Type:            nonrobust   LLR p-value:                     0.000\n",
       "==============================================================================\n",
       "                 coef    std err          z      P>|z|      [0.025      0.975]\n",
       "------------------------------------------------------------------------------\n",
       "const         -2.0261   1.56e+06   -1.3e-06      1.000   -3.06e+06    3.06e+06\n",
       "x1          1.176e-06   2.31e-06      0.509      0.611   -3.35e-06    5.71e-06\n",
       "x2         -6.117e-06   4.64e-07    -13.173      0.000   -7.03e-06   -5.21e-06\n",
       "x3            13.4873      0.456     29.575      0.000      12.593      14.381\n",
       "x4            -1.2399   1.56e+06  -7.94e-07      1.000   -3.06e+06    3.06e+06\n",
       "x5            -0.7862   1.56e+06  -5.04e-07      1.000   -3.06e+06    3.06e+06\n",
       "==============================================================================\n",
       "\"\"\""
      ]
     },
     "execution_count": 165,
     "metadata": {},
     "output_type": "execute_result"
    }
   ],
   "source": [
    "loan_forecasts = df[\"forecast\"]\n",
    "\n",
    "term = pd.get_dummies(df['term'])\n",
    "X = pd.concat([df[['loan_amnt', 'annual_inc', 'int_rate']], term], axis=1)\n",
    "X = np.array(X)\n",
    "Y = np.array(df[\"Default\"])                \n",
    "model= sm.Logit(Y, sm.add_constant(X))\n",
    "results = model.fit()\n",
    "results.summary()"
   ]
  },
  {
   "cell_type": "code",
   "execution_count": 167,
   "id": "9ab067c7",
   "metadata": {},
   "outputs": [
    {
     "data": {
      "text/html": [
       "<div>\n",
       "<style scoped>\n",
       "    .dataframe tbody tr th:only-of-type {\n",
       "        vertical-align: middle;\n",
       "    }\n",
       "\n",
       "    .dataframe tbody tr th {\n",
       "        vertical-align: top;\n",
       "    }\n",
       "\n",
       "    .dataframe thead th {\n",
       "        text-align: right;\n",
       "    }\n",
       "</style>\n",
       "<table border=\"1\" class=\"dataframe\">\n",
       "  <thead>\n",
       "    <tr style=\"text-align: right;\">\n",
       "      <th></th>\n",
       "      <th>Deciles</th>\n",
       "      <th>Lift</th>\n",
       "    </tr>\n",
       "  </thead>\n",
       "  <tbody>\n",
       "    <tr>\n",
       "      <th>0</th>\n",
       "      <td>(-0.0009999999999999755, 0.0611]</td>\n",
       "      <td>0.254500</td>\n",
       "    </tr>\n",
       "    <tr>\n",
       "      <th>1</th>\n",
       "      <td>(0.0611, 0.0744]</td>\n",
       "      <td>0.443721</td>\n",
       "    </tr>\n",
       "    <tr>\n",
       "      <th>2</th>\n",
       "      <td>(0.0744, 0.0903]</td>\n",
       "      <td>0.560396</td>\n",
       "    </tr>\n",
       "    <tr>\n",
       "      <th>3</th>\n",
       "      <td>(0.0903, 0.107]</td>\n",
       "      <td>0.689446</td>\n",
       "    </tr>\n",
       "    <tr>\n",
       "      <th>4</th>\n",
       "      <td>(0.107, 0.123]</td>\n",
       "      <td>0.811425</td>\n",
       "    </tr>\n",
       "    <tr>\n",
       "      <th>5</th>\n",
       "      <td>(0.123, 0.143]</td>\n",
       "      <td>1.011188</td>\n",
       "    </tr>\n",
       "    <tr>\n",
       "      <th>6</th>\n",
       "      <td>(0.143, 0.165]</td>\n",
       "      <td>1.099579</td>\n",
       "    </tr>\n",
       "    <tr>\n",
       "      <th>7</th>\n",
       "      <td>(0.165, 0.198]</td>\n",
       "      <td>1.306412</td>\n",
       "    </tr>\n",
       "    <tr>\n",
       "      <th>8</th>\n",
       "      <td>(0.198, 0.264]</td>\n",
       "      <td>1.642297</td>\n",
       "    </tr>\n",
       "    <tr>\n",
       "      <th>9</th>\n",
       "      <td>(0.264, 0.568]</td>\n",
       "      <td>2.180926</td>\n",
       "    </tr>\n",
       "  </tbody>\n",
       "</table>\n",
       "</div>"
      ],
      "text/plain": [
       "                            Deciles      Lift\n",
       "0  (-0.0009999999999999755, 0.0611]  0.254500\n",
       "1                  (0.0611, 0.0744]  0.443721\n",
       "2                  (0.0744, 0.0903]  0.560396\n",
       "3                   (0.0903, 0.107]  0.689446\n",
       "4                    (0.107, 0.123]  0.811425\n",
       "5                    (0.123, 0.143]  1.011188\n",
       "6                    (0.143, 0.165]  1.099579\n",
       "7                    (0.165, 0.198]  1.306412\n",
       "8                    (0.198, 0.264]  1.642297\n",
       "9                    (0.264, 0.568]  2.180926"
      ]
     },
     "execution_count": 167,
     "metadata": {},
     "output_type": "execute_result"
    }
   ],
   "source": [
    "df[\"forecast\"] = results.predict(sm.add_constant(X))\n",
    "lift_table = pd.DataFrame()\n",
    "total_prop = default_rate\n",
    "deciles = []\n",
    "lifts = []\n",
    "df[\"Deciles\"] = pd.qcut(df[\"forecast\"], q=10)\n",
    "groupby_obj = df.groupby(\"Deciles\")\n",
    "for name, group in groupby_obj:\n",
    "    prop = len(group[group[\"Default\"] == 1])/len(group)\n",
    "    deciles.append(name)\n",
    "    lifts.append(prop/total_prop)\n",
    "lift_table[\"Deciles\"] = deciles\n",
    "lift_table[\"Lift\"] = lifts\n",
    "lift_table"
   ]
  },
  {
   "cell_type": "code",
   "execution_count": 168,
   "id": "4a3f8c3a",
   "metadata": {},
   "outputs": [
    {
     "data": {
      "image/png": "[encoded data removed]",
      "text/plain": [
       "<Figure size 800x500 with 1 Axes>"
      ]
     },
     "metadata": {},
     "output_type": "display_data"
    }
   ],
   "source": [
    "fpr1, tpr1, thresholds1 = roc_curve(df[\"Default\"], grade_forecasts)\n",
    "fpr2, tpr2, thresholds2 = roc_curve(df[\"Default\"], loan_forecasts)\n",
    "fpr3, tpr3, thresholds3 = roc_curve(df[\"Default\"], df[\"forecast\"])\n",
    "plt.figure(figsize=(8,5))\n",
    "plt.plot(fpr1, tpr1, label=\"Grade\")\n",
    "plt.plot(fpr2, tpr2, label=\"Income and Loan amt\")\n",
    "plt.plot(fpr3, tpr3, label=\"Income, Loan amt, Term, Interest Rate\")\n",
    "plt.xlabel('False Positive Rate')\n",
    "plt.ylabel('True Positive Rate')\n",
    "plt.title('ROC Curve')\n",
    "plt.legend()\n",
    "plt.show()"
   ]
  },
  {
   "cell_type": "markdown",
   "id": "cbc5f299",
   "metadata": {},
   "source": [
    "The new model performs better than both the other models. This is because term structure and interest rates could be valuable inputs in understanding whether individuals would default on their loans or not."
   ]
  },
  {
   "cell_type": "code",
   "execution_count": 178,
   "id": "645faf57",
   "metadata": {},
   "outputs": [
    {
     "name": "stdout",
     "output_type": "stream",
     "text": [
      "Optimization terminated successfully.\n",
      "         Current function value: 0.385576\n",
      "         Iterations 7\n"
     ]
    },
    {
     "data": {
      "text/html": [
       "<table class=\"simpletable\">\n",
       "<caption>Logit Regression Results</caption>\n",
       "<tr>\n",
       "  <th>Dep. Variable:</th>           <td>y</td>        <th>  No. Observations:  </th>  <td> 39412</td> \n",
       "</tr>\n",
       "<tr>\n",
       "  <th>Model:</th>                 <td>Logit</td>      <th>  Df Residuals:      </th>  <td> 39406</td> \n",
       "</tr>\n",
       "<tr>\n",
       "  <th>Method:</th>                 <td>MLE</td>       <th>  Df Model:          </th>  <td>     5</td> \n",
       "</tr>\n",
       "<tr>\n",
       "  <th>Date:</th>            <td>Sun, 23 Apr 2023</td> <th>  Pseudo R-squ.:     </th>  <td>0.06261</td>\n",
       "</tr>\n",
       "<tr>\n",
       "  <th>Time:</th>                <td>21:35:38</td>     <th>  Log-Likelihood:    </th> <td> -15196.</td>\n",
       "</tr>\n",
       "<tr>\n",
       "  <th>converged:</th>             <td>True</td>       <th>  LL-Null:           </th> <td> -16211.</td>\n",
       "</tr>\n",
       "<tr>\n",
       "  <th>Covariance Type:</th>     <td>nonrobust</td>    <th>  LLR p-value:       </th>  <td> 0.000</td> \n",
       "</tr>\n",
       "</table>\n",
       "<table class=\"simpletable\">\n",
       "<tr>\n",
       "    <td></td>       <th>coef</th>     <th>std err</th>      <th>z</th>      <th>P>|z|</th>  <th>[0.025</th>    <th>0.975]</th>  \n",
       "</tr>\n",
       "<tr>\n",
       "  <th>const</th> <td>   -2.5342</td> <td>      nan</td> <td>      nan</td> <td>   nan</td> <td>      nan</td> <td>      nan</td>\n",
       "</tr>\n",
       "<tr>\n",
       "  <th>x1</th>    <td> 1.934e-06</td> <td> 2.31e-06</td> <td>    0.838</td> <td> 0.402</td> <td>-2.59e-06</td> <td> 6.46e-06</td>\n",
       "</tr>\n",
       "<tr>\n",
       "  <th>x2</th>    <td>-5.982e-06</td> <td> 4.64e-07</td> <td>  -12.905</td> <td> 0.000</td> <td>-6.89e-06</td> <td>-5.07e-06</td>\n",
       "</tr>\n",
       "<tr>\n",
       "  <th>x3</th>    <td>   25.5300</td> <td>    2.458</td> <td>   10.385</td> <td> 0.000</td> <td>   20.712</td> <td>   30.348</td>\n",
       "</tr>\n",
       "<tr>\n",
       "  <th>x4</th>    <td>  -44.9436</td> <td>    8.985</td> <td>   -5.002</td> <td> 0.000</td> <td>  -62.554</td> <td>  -27.333</td>\n",
       "</tr>\n",
       "<tr>\n",
       "  <th>x5</th>    <td>   -1.5011</td> <td>      nan</td> <td>      nan</td> <td>   nan</td> <td>      nan</td> <td>      nan</td>\n",
       "</tr>\n",
       "<tr>\n",
       "  <th>x6</th>    <td>   -1.0331</td> <td>      nan</td> <td>      nan</td> <td>   nan</td> <td>      nan</td> <td>      nan</td>\n",
       "</tr>\n",
       "</table>"
      ],
      "text/plain": [
       "<class 'statsmodels.iolib.summary.Summary'>\n",
       "\"\"\"\n",
       "                           Logit Regression Results                           \n",
       "==============================================================================\n",
       "Dep. Variable:                      y   No. Observations:                39412\n",
       "Model:                          Logit   Df Residuals:                    39406\n",
       "Method:                           MLE   Df Model:                            5\n",
       "Date:                Sun, 23 Apr 2023   Pseudo R-squ.:                 0.06261\n",
       "Time:                        21:35:38   Log-Likelihood:                -15196.\n",
       "converged:                       True   LL-Null:                       -16211.\n",
       "Covariance Type:            nonrobust   LLR p-value:                     0.000\n",
       "==============================================================================\n",
       "                 coef    std err          z      P>|z|      [0.025      0.975]\n",
       "------------------------------------------------------------------------------\n",
       "const         -2.5342        nan        nan        nan         nan         nan\n",
       "x1          1.934e-06   2.31e-06      0.838      0.402   -2.59e-06    6.46e-06\n",
       "x2         -5.982e-06   4.64e-07    -12.905      0.000   -6.89e-06   -5.07e-06\n",
       "x3            25.5300      2.458     10.385      0.000      20.712      30.348\n",
       "x4           -44.9436      8.985     -5.002      0.000     -62.554     -27.333\n",
       "x5            -1.5011        nan        nan        nan         nan         nan\n",
       "x6            -1.0331        nan        nan        nan         nan         nan\n",
       "==============================================================================\n",
       "\"\"\""
      ]
     },
     "execution_count": 178,
     "metadata": {},
     "output_type": "execute_result"
    }
   ],
   "source": [
    "term = pd.get_dummies(df['term'])\n",
    "df['int_sq'] = df['int_rate'] ** 2\n",
    "X = pd.concat([df[['loan_amnt', 'annual_inc', 'int_rate', 'int_sq']], term], axis=1)\n",
    "X = np.array(X)\n",
    "Y = np.array(df[\"Default\"])                \n",
    "model= sm.Logit(Y, sm.add_constant(X))\n",
    "results = model.fit(maxiter=1000)\n",
    "results.summary()"
   ]
  },
  {
   "cell_type": "markdown",
   "id": "d3f6cb21",
   "metadata": {},
   "source": [
    "The coefficient of interest rate and its square both have p value ~ 0 (are significiant). The coefficient for int_rate is positive while it's square is negative which implies a proportionality between interest rates which is offseted by its squared component. This offsetting component could be useful if we have a reliable term structure model to compare the relative default losses of small changes in interest rates over time."
   ]
  }
 ],
 "metadata": {
  "kernelspec": {
   "display_name": "Python 3 (ipykernel)",
   "language": "python",
   "name": "python3"
  },
  "language_info": {
   "codemirror_mode": {
    "name": "ipython",
    "version": 3
   },
   "file_extension": ".py",
   "mimetype": "text/x-python",
   "name": "python",
   "nbconvert_exporter": "python",
   "pygments_lexer": "ipython3",
   "version": "3.9.13"
  }
 },
 "nbformat": 4,
 "nbformat_minor": 5
}
